{
 "cells": [
  {
   "cell_type": "code",
   "execution_count": 3,
   "metadata": {},
   "outputs": [
    {
     "name": "stdout",
     "output_type": "stream",
     "text": [
      "{'title': 'us bomb delay is biggest warning yet for israel', 'description': 'by delaying a weapons shipment the us is finally reaching for its biggest lever of influence over israel', 'link': 'No link available'}\n",
      "{'title': 'ohtanis exinterpreter to plead guilty to fraud', 'description': 'ippei mizuhara agrees to plead guilty to stealing from japanese baseball star shohei ohtani in the us', 'link': 'No link available'}\n",
      "{'title': 'us bomb delay is biggest warning yet for israel', 'description': 'by delaying a weapons shipment the us is finally reaching for its biggest lever of influence over israel', 'link': 'No link available'}\n",
      "{'title': 'ohtanis exinterpreter to plead guilty to fraud', 'description': 'ippei mizuhara agrees to plead guilty to stealing from japanese baseball star shohei ohtani in the us', 'link': 'No link available'}\n",
      "{'title': 'us to halt some arms supplies if israel invades rafah', 'description': 'president biden warns he will stop supplying some weapons if israel launches a ground operation', 'link': 'No link available'}\n",
      "{'title': 'marjorie taylor greene fails to remove house speaker', 'description': 'the house killed the farright lawmakers motion to remove republican mike johnson over support for ukraine aid', 'link': 'No link available'}\n",
      "{'title': 'laken riley venezuelan man charged with murder', 'description': 'georgia files 10 charges against undocumented migrant jose ibarra over death of 22yearold student', 'link': 'No link available'}\n",
      "{'title': 'going to the extreme inside germanys far right', 'description': 'a bbc investigation uncovers links between opposition afd party figures and extremist networks', 'link': 'No link available'}\n",
      "{'title': 'russia ramps up attacks on ukraines power plants', 'description': 'bbc verify has been tracking russias attacks on ukraines energy infrastructure', 'link': 'No link available'}\n",
      "{'title': 'the deep ocean photographer that captured a living fossil', 'description': 'in 2010 laurent ballesta stared directly into the eyes of a creature once thought to be extinct  and took the first ever photograph of a living coelacanth', 'link': 'No link available'}\n",
      "{'title': 'an ancient activity that could help ease anxiety', 'description': 'walking labyrinths has become an increasingly popular global method of reducing stress by integrating the mind and the body', 'link': 'No link available'}\n",
      "{'title': 'bbc reveals destruction of gazas water sites', 'description': 'hundreds of gazas water and sanitation facilities have been damaged or destroyed', 'link': 'No link available'}\n",
      "{'title': 'whistleblower boeing supplier sent faulty parts', 'description': 'a former quality inspector for spirit aerosystems claims he found many defects on parts due for shipping', 'link': 'No link available'}\n",
      "{'title': 'kim familys master propagandist dies at 94', 'description': 'kim ki nam built the personality cult of north koreas ruling dynasty', 'link': 'No link available'}\n",
      "{'title': 'battles in east rafah as israel says aid route reopens', 'description': 'israel says lorries are at kerem shalom crossing but a un agency says they have not entered gaza', 'link': 'No link available'}\n",
      "{'title': 'trinity protest camp to end after agreement made', 'description': 'an encampment and blockade on trinity college dublins campus will end following talks with the university', 'link': 'No link available'}\n",
      "{'title': 'whistleblower boeing supplier sent faulty parts', 'description': 'a former quality inspector for spirit aerosystems claims he found many defects on parts due for shipping', 'link': 'No link available'}\n",
      "{'title': 'brazil floods weve never experienced anything like it', 'description': 'residents of the brazilian city of porto alegre describe the devastation caused by recent floods', 'link': 'No link available'}\n",
      "{'title': 'hong kong bans protest anthem after court case win', 'description': 'the citys court has overturned a previous ruling to ban the song which was used by democracy protesters', 'link': 'No link available'}\n",
      "{'title': 'olympic flame arrives in marseille amid unprecedented security', 'description': 'the olympic flame arrives in marseille amid an unprecedented level of security 79 days before the opening ceremony of the paris games', 'link': 'No link available'}\n",
      "{'title': 'kim familys master propagandist dies at 94', 'description': 'kim ki nam built the personality cult of north koreas ruling dynasty', 'link': 'No link available'}\n",
      "{'title': 'were about to witness a onceinalifetime star explosion', 'description': 'an extremely rare stellar explosion is about to happen and we will be able to witness it with the naked eye', 'link': 'No link available'}\n",
      "{'title': 'king charles smiles greeting garden party guests', 'description': 'queen camilla was also in attendance at the first of buckingham palaces two annual summer parties', 'link': 'No link available'}\n",
      "{'title': 'could wind power be the future of shipping', 'description': 'a quick look at the viable options that could make shipping more sustainable', 'link': 'No link available'}\n",
      "{'title': 'fifty people rescued after tornado hits fedex depot', 'description': 'severe storms damaged multiple buildings and trapped dozens in a michigan fedex facility', 'link': 'No link available'}\n",
      "{'title': 'harry arrives at invictus games anniversary service', 'description': 'the duke of sussex will give a reading at the thanksgiving service in st pauls cathedral celebrating the 10th anniversary of the games', 'link': 'No link available'}\n",
      "{'title': 'us and allies sink mock enemy ship in military drill', 'description': 'more than 16000 military personnel took part in the practice drills in the philippines and south china sea', 'link': 'No link available'}\n",
      "{'title': 'key moments from stormy daniels heated testimony', 'description': 'the bbcs nada tawfik looks at the biggest moments of the former adultfilm stars time on the stand', 'link': 'No link available'}\n",
      "{'title': 'us lawmaker uses voice assist app to address congress', 'description': 'jennifer wexton was diagnosed with progressive supranuclear palsy which makes it difficult for her to speak', 'link': 'No link available'}\n",
      "{'title': 'bbc verify looks at fake aigenerated met gala images', 'description': 'fake pictures of katy perry and other artists at the met gala went viral on social media', 'link': 'No link available'}\n",
      "{'title': 'the rare condition that makes faces appear demonic', 'description': 'thanks to one patient we now have the most accurate insight into life through the eyes of people affected by prosopometamorphopsia', 'link': 'No link available'}\n",
      "{'title': 'images show devastating impact of brazil floods', 'description': 'aerial footage shows devastating scenes in brazil as landslides and massive flooding kill dozens', 'link': 'No link available'}\n",
      "{'title': 'venus had water like earth heres why it became so dry', 'description': 'venus once had oceans of water but today its bonedry now researchers know why', 'link': 'No link available'}\n",
      "{'title': 'the feud between drake and kendrick lamar explained', 'description': 'No description available', 'link': 'No link available'}\n",
      "{'title': 'is tornado alley in the us migrating', 'description': 'No description available', 'link': 'No link available'}\n",
      "{'title': 'us bomb delay is biggest warning yet for israel', 'description': 'by delaying a weapons shipment the us is finally reaching for its biggest lever of influence over israel', 'link': 'No link available'}\n",
      "{'title': 'russia ramps up attacks on ukraines power plants', 'description': 'bbc verify has been tracking russias attacks on ukraines energy infrastructure', 'link': 'No link available'}\n",
      "{'title': 'marjorie taylor greene fails to remove house speaker', 'description': 'the house killed the farright lawmakers motion to remove republican mike johnson over support for ukraine aid', 'link': 'No link available'}\n",
      "{'title': 'kim familys master propagandist dies at 94', 'description': 'kim ki nam built the personality cult of north koreas ruling dynasty', 'link': 'No link available'}\n",
      "{'title': 'could wind power be the future of shipping', 'description': 'No description available', 'link': 'No link available'}\n",
      "{'title': 'watch mother of slain surfers says shine brighter in their memory', 'description': 'the mother of two australian brothers killed in mexico says the world has become a darker place', 'link': 'No link available'}\n",
      "{'title': 'harry gives reading at invictus anniversary service', 'description': 'the duke was greeted by attendees including actor damien lewis before reading a bible passage in st pauls cathedral', 'link': 'No link available'}\n",
      "{'title': 'malawians who abandoned israeli farms deported', 'description': 'they went to israel as part of a deal to provide agricultural workers after the 2023 hamas attacks', 'link': 'No link available'}\n",
      "{'title': 'anger in nigeria over levy on money transfers', 'description': 'some argue that the 05 cybersecurity levy on electronic transfers will push people back to using cash', 'link': 'No link available'}\n",
      "{'title': 'the paris olympic games are six months away', 'description': 'No description available', 'link': 'No link available'}\n",
      "{'title': 'facebook did nothing about taylor swift ticket hack scam', 'description': 'some users had their accounts hacked and hijacked to sell fake tickets for the stars uk tour dates', 'link': 'No link available'}\n",
      "{'title': 'could ofcom ban social media for under18s', 'description': 'a quick simple guide to the new social media rules proposed by ofcom', 'link': 'No link available'}\n",
      "{'title': 'dame shirley bassey to auction 600k of jewellery', 'description': 'the diamond are forever singers collection includes a diamondcovered ring from sir elton john', 'link': 'No link available'}\n",
      "{'title': 'tuchel says offside decision felt like betrayal', 'description': 'bayern munich manager thomas tuchel says the decision from officials to stop play before his side scored an equaliser against real madrid feels like a betrayal', 'link': 'No link available'}\n",
      "{'title': 'the essential list', 'description': 'the weeks best stories handpicked by bbc editors in your inbox every tuesday and friday', 'link': 'No link available'}\n",
      "{'title': 'us election unspun', 'description': 'cut through the spin with north america correspondent anthony zurcher  in your inbox every wednesday', 'link': 'No link available'}\n",
      "{'title': 'in history', 'description': 'discover the headlines from this week in history see the past come to life through the bbcs unique archive in your inbox every thursday', 'link': 'No link available'}\n",
      "{'title': 'brazil floods weve never experienced anything like it', 'description': 'residents of the brazilian city of porto alegre describe the devastation caused by recent floods', 'link': 'No link available'}\n",
      "{'title': 'mum never got over injecting son with infected blood', 'description': 'kate mcdougall gave her son injections to treat his haemophilia which unknowingly led to his hiv infection', 'link': 'No link available'}\n",
      "{'title': 'the wines birthed from black volcanic craters', 'description': 'in spains lanzarote island conical hollows built into layers of volcanic ash yield wines that have been created from generations of ingenuity and hard work', 'link': 'No link available'}\n",
      "{'title': 'a jpop sensations guide to tokyos music scene', 'description': 'yoasobi breaks musical barriers both in their native japan and overseas heres how they enjoy tokyos hottest live music from buskers in shibuya to concerts at nippon budokan', 'link': 'No link available'}\n"
     ]
    }
   ],
   "source": [
    "import requests\n",
    "from bs4 import BeautifulSoup\n",
    "import re\n",
    "\n",
    "def clean_text(text):\n",
    "    \"\"\"Clean text by removing unnecessary characters and altering the format of words.\"\"\"\n",
    "    text = text.lower()  # convert to lowercase\n",
    "    text = re.sub(r'\\s+', ' ', text)  # replace multiple spaces with one space\n",
    "    text = re.sub(r'[^\\w\\s]', '', text)  # remove punctuation\n",
    "    text = text.strip()  # remove leading and trailing spaces\n",
    "    return text\n",
    "\n",
    "def extract_data():\n",
    "    url = 'https://www.bbc.com'\n",
    "    response = requests.get(url)\n",
    "    soup = BeautifulSoup(response.text, 'html.parser')\n",
    "\n",
    "    cards = soup.find_all('div', {'data-testid': 'card-text-wrapper'})\n",
    "\n",
    "    data = []\n",
    "    for card in cards:\n",
    "        headline = card.find('h2', {'data-testid': 'card-headline'})\n",
    "        description = card.find('p', {'data-testid': 'card-description'})\n",
    "        link_tag = card.parent.find('a', {'data-testid': 'internal-link'})\n",
    "\n",
    "        title = clean_text(headline.text) if headline else 'No title found'\n",
    "        description = clean_text(description.text) if description else 'No description available'\n",
    "        link = url + link_tag['href'] if link_tag and link_tag.get('href') else 'No link available'\n",
    "\n",
    "        data.append({\n",
    "            'title': title,\n",
    "            'description': description,\n",
    "            'link': link\n",
    "        })\n",
    "\n",
    "    return data\n",
    "\n",
    "extracted_data = extract_data()\n",
    "for item in extracted_data:\n",
    "    print(item)\n"
   ]
  },
  {
   "cell_type": "code",
   "execution_count": 4,
   "metadata": {},
   "outputs": [
    {
     "name": "stdout",
     "output_type": "stream",
     "text": [
      "Data successfully saved to extracted_data.json\n"
     ]
    }
   ],
   "source": [
    "import json\n",
    "def save_data_to_json(data, filename):\n",
    "    \"\"\"Save the data to a JSON file.\"\"\"\n",
    "    with open(filename, 'w', encoding='utf-8') as f:\n",
    "        json.dump(data, f, ensure_ascii=False, indent=4)\n",
    "    print(f\"Data successfully saved to {filename}\")\n",
    "\n",
    "# Example usage\n",
    "save_data_to_json(extracted_data, 'extracted_data.json')"
   ]
  },
  {
   "cell_type": "code",
   "execution_count": null,
   "metadata": {},
   "outputs": [],
   "source": []
  }
 ],
 "metadata": {
  "kernelspec": {
   "display_name": "Python 3",
   "language": "python",
   "name": "python3"
  },
  "language_info": {
   "codemirror_mode": {
    "name": "ipython",
    "version": 3
   },
   "file_extension": ".py",
   "mimetype": "text/x-python",
   "name": "python",
   "nbconvert_exporter": "python",
   "pygments_lexer": "ipython3",
   "version": "3.11.9"
  }
 },
 "nbformat": 4,
 "nbformat_minor": 2
}
